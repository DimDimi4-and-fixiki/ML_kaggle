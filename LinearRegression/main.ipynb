{
 "cells": [
  {
   "cell_type": "code",
   "execution_count": 71,
   "metadata": {},
   "outputs": [],
   "source": [
    "import matplotlib.pyplot as plt\n",
    "import numpy as np\n",
    "import pandas as pd\n",
    "from numpy.linalg import inv\n",
    "import seaborn as sns"
   ]
  },
  {
   "cell_type": "code",
   "execution_count": 10,
   "metadata": {},
   "outputs": [
    {
     "data": {
      "text/plain": [
       "numpy.ndarray"
      ]
     },
     "execution_count": 10,
     "metadata": {},
     "output_type": "execute_result"
    }
   ],
   "source": [
    "a = np.array([1, 1, 1])\n",
    "type(a)"
   ]
  },
  {
   "cell_type": "code",
   "execution_count": 170,
   "metadata": {
    "code_folding": []
   },
   "outputs": [],
   "source": [
    "class LinearRegressor(object):\n",
    "    def __init__(self, **kwargs):\n",
    "        self.normalize = kwargs.get('normilize', False)\n",
    "        self.log = kwargs.get('log', False)\n",
    "        self.draw_plot = kwargs.get('draw_plot', False)\n",
    "        \n",
    "    def count_MSE(self, a, b):\n",
    "        if a.shape != b.shape:\n",
    "            return\n",
    "        n = len(a)\n",
    "        res = 0\n",
    "        for i in range(n):\n",
    "            res += 1 / n * ((a[i] - b[i]) ** 2)\n",
    "        return res\n",
    "    \n",
    "    def predict(self, test):\n",
    "        res = np.dot(test, self.w)\n",
    "        for i in range(len(res)):\n",
    "            if res[i] > 0:\n",
    "                res[i] = 1\n",
    "            else:\n",
    "                res[i] = -1\n",
    "        return res\n",
    "    \n",
    "    def fit(self, X, y):\n",
    "        self.w = np.dot(np.dot(inv(np.dot(np.transpose(X), X)), np.transpose(X)), y)\n",
    "        if self.log:\n",
    "            y_pred = self.predict(X)\n",
    "            print(y_pred)\n",
    "            MSE = self.count_MSE(y, y_pred)\n",
    "            print(\"MSE on train data = {}\".format(MSE))\n",
    "            \n",
    "        if X.shape[1] == 2:\n",
    "            print(self.w)\n",
    "            df = pd.DataFrame({'x': [i[0] for i in X], 'y': [i[1] for i in X], 'class': y})\n",
    "            print(df)\n",
    "            sns.set_style('darkgrid')\n",
    "            sns.scatterplot(data=df, x='x', y='y', hue='class', palette=['black', 'red'])\n",
    "        "
   ]
  },
  {
   "cell_type": "code",
   "execution_count": 171,
   "metadata": {},
   "outputs": [],
   "source": [
    "model = LinearRegressor(log=True)"
   ]
  },
  {
   "cell_type": "code",
   "execution_count": 172,
   "metadata": {},
   "outputs": [
    {
     "name": "stdout",
     "output_type": "stream",
     "text": [
      "[ 1.  1.  1. -1. -1. -1. -1.]\n",
      "MSE on train data = 0.0\n",
      "[-0.43383494  0.70690675]\n",
      "     x    y  class\n",
      "0  2.0  2.0      1\n",
      "1  3.0  3.0      1\n",
      "2  4.0  4.0      1\n",
      "3  2.0  1.0     -1\n",
      "4  0.5  0.3     -1\n",
      "5  3.0  1.0     -1\n",
      "6  5.0  1.0     -1\n"
     ]
    },
    {
     "data": {
      "image/png": "[encoded data removed]",
      "text/plain": [
       "<Figure size 432x288 with 1 Axes>"
      ]
     },
     "metadata": {},
     "output_type": "display_data"
    }
   ],
   "source": [
    "X = np.array([[2, 2], [3, 3], [4, 4], [2, 1], [0.5, 0.3], [3, 1], [5, 1]])\n",
    "y = np.array([1, 1, 1, -1, -1, -1, -1])\n",
    "model.fit(X, y)"
   ]
  }
 ],
 "metadata": {
  "kernelspec": {
   "display_name": "Python 3",
   "language": "python",
   "name": "python3"
  },
  "language_info": {
   "codemirror_mode": {
    "name": "ipython",
    "version": 3
   },
   "file_extension": ".py",
   "mimetype": "text/x-python",
   "name": "python",
   "nbconvert_exporter": "python",
   "pygments_lexer": "ipython3",
   "version": "3.7.3"
  }
 },
 "nbformat": 4,
 "nbformat_minor": 4
}
